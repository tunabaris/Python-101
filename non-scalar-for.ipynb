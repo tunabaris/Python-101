{
 "cells": [
  {
   "cell_type": "markdown",
   "id": "815f110f",
   "metadata": {},
   "source": [
    "# Non scalar for"
   ]
  },
  {
   "cell_type": "markdown",
   "id": "2939a3ef",
   "metadata": {},
   "source": [
    "## Iteration in lists"
   ]
  },
  {
   "cell_type": "code",
   "execution_count": 1,
   "id": "8e2f1b9e",
   "metadata": {},
   "outputs": [],
   "source": [
    "grades=[90,55,65,75]"
   ]
  },
  {
   "cell_type": "code",
   "execution_count": 2,
   "id": "2f112538",
   "metadata": {},
   "outputs": [
    {
     "name": "stdout",
     "output_type": "stream",
     "text": [
      "90\n",
      "55\n",
      "65\n",
      "75\n"
     ]
    }
   ],
   "source": [
    "for e in grades:\n",
    "    print(e)"
   ]
  },
  {
   "cell_type": "code",
   "execution_count": 3,
   "id": "81120020",
   "metadata": {},
   "outputs": [
    {
     "name": "stdout",
     "output_type": "stream",
     "text": [
      "71.25\n"
     ]
    }
   ],
   "source": [
    "## average calculation\n",
    "counter =0\n",
    "for e in grades:\n",
    "    counter+=e\n",
    "result= counter/len(grades)\n",
    "print (result)"
   ]
  },
  {
   "cell_type": "code",
   "execution_count": 5,
   "id": "eb593e3a",
   "metadata": {},
   "outputs": [
    {
     "name": "stdout",
     "output_type": "stream",
     "text": [
      "iteration  0\n",
      "iteration  1\n",
      "iteration  2\n"
     ]
    }
   ],
   "source": [
    "for i in range(3):\n",
    "    print(\"iteration \",i)"
   ]
  },
  {
   "cell_type": "code",
   "execution_count": 9,
   "id": "e870df8a",
   "metadata": {},
   "outputs": [
    {
     "name": "stdout",
     "output_type": "stream",
     "text": [
      "[90, 55, 105, 75]\n",
      "[100, 65, 115, 85]\n"
     ]
    }
   ],
   "source": [
    "# Increase all notes by 10\n",
    "print(grades)\n",
    "for c in range (len(grades)):\n",
    "    grades[c]+=10\n",
    "print (grades)"
   ]
  },
  {
   "cell_type": "markdown",
   "id": "ffbc3bf2",
   "metadata": {},
   "source": [
    "## Iteration in dictionaries"
   ]
  },
  {
   "cell_type": "code",
   "execution_count": 10,
   "id": "f708ea11",
   "metadata": {},
   "outputs": [],
   "source": [
    "d={\"student1\":[90,89],\"student2\":[85,60]}"
   ]
  },
  {
   "cell_type": "code",
   "execution_count": 11,
   "id": "304eda95",
   "metadata": {},
   "outputs": [
    {
     "name": "stdout",
     "output_type": "stream",
     "text": [
      "student1\n",
      "student2\n"
     ]
    }
   ],
   "source": [
    "i = 0\n",
    "for i in d:\n",
    "    print(i)"
   ]
  },
  {
   "cell_type": "code",
   "execution_count": 13,
   "id": "59195e2d",
   "metadata": {},
   "outputs": [
    {
     "name": "stdout",
     "output_type": "stream",
     "text": [
      "[90, 89]\n",
      "[85, 60]\n"
     ]
    }
   ],
   "source": [
    "i=0\n",
    "for i in d:\n",
    "    v=d[i]\n",
    "    print(v)"
   ]
  },
  {
   "cell_type": "markdown",
   "id": "5d213949",
   "metadata": {},
   "source": [
    "#### .values()"
   ]
  },
  {
   "cell_type": "code",
   "execution_count": 14,
   "id": "68e05cd6",
   "metadata": {},
   "outputs": [
    {
     "name": "stdout",
     "output_type": "stream",
     "text": [
      "[90, 89]\n",
      "[85, 60]\n"
     ]
    }
   ],
   "source": [
    "i=0\n",
    "for v in d.values():\n",
    "    print(v)"
   ]
  },
  {
   "cell_type": "markdown",
   "id": "1591f247",
   "metadata": {},
   "source": [
    "#### items()"
   ]
  },
  {
   "cell_type": "code",
   "execution_count": 15,
   "id": "5f060aa7",
   "metadata": {},
   "outputs": [
    {
     "name": "stdout",
     "output_type": "stream",
     "text": [
      "Key is  student1 Value is  [90, 89]\n",
      "Key is  student2 Value is  [85, 60]\n"
     ]
    }
   ],
   "source": [
    "i=0\n",
    "for k,v in d.items():\n",
    "    print(\"Key is \",k , \"Value is \",v)"
   ]
  },
  {
   "cell_type": "code",
   "execution_count": null,
   "id": "06157889",
   "metadata": {},
   "outputs": [],
   "source": []
  }
 ],
 "metadata": {
  "kernelspec": {
   "display_name": "Python 3 (ipykernel)",
   "language": "python",
   "name": "python3"
  },
  "language_info": {
   "codemirror_mode": {
    "name": "ipython",
    "version": 3
   },
   "file_extension": ".py",
   "mimetype": "text/x-python",
   "name": "python",
   "nbconvert_exporter": "python",
   "pygments_lexer": "ipython3",
   "version": "3.9.7"
  }
 },
 "nbformat": 4,
 "nbformat_minor": 5
}
