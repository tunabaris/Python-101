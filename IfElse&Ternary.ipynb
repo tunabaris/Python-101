{
 "cells": [
  {
   "cell_type": "markdown",
   "id": "519dcd1c",
   "metadata": {},
   "source": [
    "# If - Elif -Else"
   ]
  },
  {
   "cell_type": "code",
   "execution_count": 4,
   "id": "9dd21efd",
   "metadata": {},
   "outputs": [
    {
     "name": "stdout",
     "output_type": "stream",
     "text": [
      "Enter a number in between 0-100: 50\n",
      "half\n"
     ]
    }
   ],
   "source": [
    "x = int(input(\"Enter a number in between 0-100: \"))\n",
    "if(x<=100 and x>50):\n",
    "    print(\"Bigger half\")\n",
    "elif(x==50):\n",
    "    print(\"half\")\n",
    "elif(x<50 and x>=0):\n",
    "    print(\"Smaller half \")    \n",
    "else:\n",
    "    print(\"Your input is false. Try again later.\")"
   ]
  },
  {
   "cell_type": "markdown",
   "id": "18b013dd",
   "metadata": {},
   "source": [
    "# Ternary Conditionals"
   ]
  },
  {
   "cell_type": "code",
   "execution_count": 5,
   "id": "5ffa3a19",
   "metadata": {},
   "outputs": [
    {
     "name": "stdout",
     "output_type": "stream",
     "text": [
      "Enter a number in between 0-100: 48\n"
     ]
    },
    {
     "data": {
      "text/plain": [
       "'Smaller half '"
      ]
     },
     "execution_count": 5,
     "metadata": {},
     "output_type": "execute_result"
    }
   ],
   "source": [
    "x = int(input(\"Enter a number in between 0-100: \"))\n",
    "\"Bigger half\" if (x<=100 and x>50) else \"Smaller half \" "
   ]
  },
  {
   "cell_type": "code",
   "execution_count": null,
   "id": "865fdb14",
   "metadata": {},
   "outputs": [],
   "source": []
  }
 ],
 "metadata": {
  "kernelspec": {
   "display_name": "Python 3 (ipykernel)",
   "language": "python",
   "name": "python3"
  },
  "language_info": {
   "codemirror_mode": {
    "name": "ipython",
    "version": 3
   },
   "file_extension": ".py",
   "mimetype": "text/x-python",
   "name": "python",
   "nbconvert_exporter": "python",
   "pygments_lexer": "ipython3",
   "version": "3.9.7"
  }
 },
 "nbformat": 4,
 "nbformat_minor": 5
}
