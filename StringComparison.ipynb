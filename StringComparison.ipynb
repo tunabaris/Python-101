{
 "cells": [
  {
   "cell_type": "markdown",
   "id": "d6314c58",
   "metadata": {},
   "source": [
    "# String Comparison"
   ]
  },
  {
   "cell_type": "code",
   "execution_count": 2,
   "id": "c52f2044",
   "metadata": {},
   "outputs": [
    {
     "data": {
      "text/plain": [
       "True"
      ]
     },
     "execution_count": 2,
     "metadata": {},
     "output_type": "execute_result"
    }
   ],
   "source": [
    "\"Apple\" != \"apple\"   ## Uppercase , lowercase are important"
   ]
  },
  {
   "cell_type": "code",
   "execution_count": 4,
   "id": "2ad5a3c5",
   "metadata": {},
   "outputs": [
    {
     "data": {
      "text/plain": [
       "True"
      ]
     },
     "execution_count": 4,
     "metadata": {},
     "output_type": "execute_result"
    }
   ],
   "source": [
    "a = \"apple\"\n",
    "b= \"apple\"\n",
    "a==b"
   ]
  },
  {
   "cell_type": "code",
   "execution_count": 5,
   "id": "41e7a934",
   "metadata": {},
   "outputs": [
    {
     "data": {
      "text/plain": [
       "True"
      ]
     },
     "execution_count": 5,
     "metadata": {},
     "output_type": "execute_result"
    }
   ],
   "source": [
    "\"c\" < \"d\"      # look for alphabet"
   ]
  },
  {
   "cell_type": "code",
   "execution_count": 6,
   "id": "81ddae23",
   "metadata": {},
   "outputs": [
    {
     "data": {
      "text/plain": [
       "True"
      ]
     },
     "execution_count": 6,
     "metadata": {},
     "output_type": "execute_result"
    }
   ],
   "source": [
    "\"cs\" < \"db\""
   ]
  },
  {
   "cell_type": "code",
   "execution_count": 7,
   "id": "071468a1",
   "metadata": {},
   "outputs": [
    {
     "data": {
      "text/plain": [
       "False"
      ]
     },
     "execution_count": 7,
     "metadata": {},
     "output_type": "execute_result"
    }
   ],
   "source": [
    "\"abc\" < \"abb\""
   ]
  },
  {
   "cell_type": "code",
   "execution_count": null,
   "id": "91bdf6a8",
   "metadata": {},
   "outputs": [],
   "source": []
  }
 ],
 "metadata": {
  "kernelspec": {
   "display_name": "Python 3 (ipykernel)",
   "language": "python",
   "name": "python3"
  },
  "language_info": {
   "codemirror_mode": {
    "name": "ipython",
    "version": 3
   },
   "file_extension": ".py",
   "mimetype": "text/x-python",
   "name": "python",
   "nbconvert_exporter": "python",
   "pygments_lexer": "ipython3",
   "version": "3.9.7"
  }
 },
 "nbformat": 4,
 "nbformat_minor": 5
}
