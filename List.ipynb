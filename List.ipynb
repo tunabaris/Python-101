{
 "cells": [
  {
   "cell_type": "markdown",
   "id": "85915443",
   "metadata": {},
   "source": [
    "# List\n",
    "- [element1,element2,...]"
   ]
  },
  {
   "cell_type": "code",
   "execution_count": 1,
   "id": "c24d40bb",
   "metadata": {},
   "outputs": [],
   "source": [
    "student1=78\n",
    "student2=79\n",
    "student3=55"
   ]
  },
  {
   "cell_type": "code",
   "execution_count": 2,
   "id": "3c744db0",
   "metadata": {},
   "outputs": [],
   "source": [
    "grades = [78,79,55]"
   ]
  },
  {
   "cell_type": "markdown",
   "id": "9728c377",
   "metadata": {},
   "source": [
    "#### Indexing and Slicing"
   ]
  },
  {
   "cell_type": "code",
   "execution_count": 3,
   "id": "44307c47",
   "metadata": {},
   "outputs": [
    {
     "data": {
      "text/plain": [
       "78"
      ]
     },
     "execution_count": 3,
     "metadata": {},
     "output_type": "execute_result"
    }
   ],
   "source": [
    "grades[0]"
   ]
  },
  {
   "cell_type": "code",
   "execution_count": 4,
   "id": "d20a7315",
   "metadata": {},
   "outputs": [
    {
     "data": {
      "text/plain": [
       "[79, 55]"
      ]
     },
     "execution_count": 4,
     "metadata": {},
     "output_type": "execute_result"
    }
   ],
   "source": [
    "grades[1:3]"
   ]
  },
  {
   "cell_type": "markdown",
   "id": "d0d7c772",
   "metadata": {},
   "source": [
    "### Lists are mutable\n",
    "- can change the values"
   ]
  },
  {
   "cell_type": "code",
   "execution_count": 7,
   "id": "8e4c70ad",
   "metadata": {},
   "outputs": [
    {
     "name": "stdout",
     "output_type": "stream",
     "text": [
      "[78, 84, 55]\n"
     ]
    }
   ],
   "source": [
    "grades[1]+=5\n",
    "print(grades)"
   ]
  },
  {
   "cell_type": "markdown",
   "id": "251ee81d",
   "metadata": {},
   "source": [
    "### len()\n",
    "- count the length of list"
   ]
  },
  {
   "cell_type": "code",
   "execution_count": 8,
   "id": "a6712df5",
   "metadata": {},
   "outputs": [
    {
     "data": {
      "text/plain": [
       "3"
      ]
     },
     "execution_count": 8,
     "metadata": {},
     "output_type": "execute_result"
    }
   ],
   "source": [
    "len(grades)"
   ]
  },
  {
   "cell_type": "markdown",
   "id": "a81b352e",
   "metadata": {},
   "source": [
    "### Adding element in list"
   ]
  },
  {
   "cell_type": "markdown",
   "id": "e6096cb0",
   "metadata": {},
   "source": [
    "#### append()"
   ]
  },
  {
   "cell_type": "code",
   "execution_count": 11,
   "id": "11a9be71",
   "metadata": {},
   "outputs": [
    {
     "name": "stdout",
     "output_type": "stream",
     "text": [
      "[0, 1, 2, 3, 4]\n"
     ]
    }
   ],
   "source": [
    "list=[0,1,2,3,4]\n",
    "print(list)\n",
    "list.append(200)"
   ]
  },
  {
   "cell_type": "code",
   "execution_count": 12,
   "id": "369a025f",
   "metadata": {},
   "outputs": [
    {
     "name": "stdout",
     "output_type": "stream",
     "text": [
      "[0, 1, 2, 3, 4, 200]\n"
     ]
    }
   ],
   "source": [
    "print(list)"
   ]
  },
  {
   "cell_type": "markdown",
   "id": "5141dc63",
   "metadata": {},
   "source": [
    "#### extend()"
   ]
  },
  {
   "cell_type": "code",
   "execution_count": 15,
   "id": "786068d5",
   "metadata": {},
   "outputs": [
    {
     "name": "stdout",
     "output_type": "stream",
     "text": [
      "[0, 1, 2, 3, 4]\n"
     ]
    }
   ],
   "source": [
    "list=[0,1,2,3,4]\n",
    "print(list)\n",
    "list.extend([200,300,400])"
   ]
  },
  {
   "cell_type": "code",
   "execution_count": 16,
   "id": "c90f490b",
   "metadata": {},
   "outputs": [
    {
     "name": "stdout",
     "output_type": "stream",
     "text": [
      "[0, 1, 2, 3, 4, 200, 300, 400]\n"
     ]
    }
   ],
   "source": [
    "print(list)"
   ]
  },
  {
   "cell_type": "markdown",
   "id": "fdb610ca",
   "metadata": {},
   "source": [
    "### Adding element to specific index"
   ]
  },
  {
   "cell_type": "markdown",
   "id": "cf3f3a5c",
   "metadata": {},
   "source": [
    "#### insert( index,element )"
   ]
  },
  {
   "cell_type": "code",
   "execution_count": 17,
   "id": "3177456b",
   "metadata": {},
   "outputs": [
    {
     "name": "stdout",
     "output_type": "stream",
     "text": [
      "[0, 1, 2, 100, 3, 4]\n"
     ]
    }
   ],
   "source": [
    "list=[0,1,2,3,4]\n",
    "list.insert(3,100)\n",
    "print(list)"
   ]
  },
  {
   "cell_type": "markdown",
   "id": "b2a286a6",
   "metadata": {},
   "source": [
    "### Deleting element in lists"
   ]
  },
  {
   "cell_type": "markdown",
   "id": "b907eb69",
   "metadata": {},
   "source": [
    "#### remove(element)"
   ]
  },
  {
   "cell_type": "code",
   "execution_count": 25,
   "id": "90c18bc8",
   "metadata": {},
   "outputs": [
    {
     "data": {
      "text/plain": [
       "[0, 1, 10, 3, 4, 10]"
      ]
     },
     "execution_count": 25,
     "metadata": {},
     "output_type": "execute_result"
    }
   ],
   "source": [
    "list=[0,1,10,3,4,10]\n",
    "list"
   ]
  },
  {
   "cell_type": "code",
   "execution_count": 26,
   "id": "c4b56499",
   "metadata": {},
   "outputs": [
    {
     "data": {
      "text/plain": [
       "[0, 1, 3, 4, 10]"
      ]
     },
     "execution_count": 26,
     "metadata": {},
     "output_type": "execute_result"
    }
   ],
   "source": [
    "list.remove(10)    #first 10 was deleted\n",
    "list"
   ]
  },
  {
   "cell_type": "markdown",
   "id": "341eef6b",
   "metadata": {},
   "source": [
    "#### pop(index)"
   ]
  },
  {
   "cell_type": "code",
   "execution_count": 32,
   "id": "6af36fd5",
   "metadata": {},
   "outputs": [
    {
     "data": {
      "text/plain": [
       "[0, 1, 10, 3, 4, 10]"
      ]
     },
     "execution_count": 32,
     "metadata": {},
     "output_type": "execute_result"
    }
   ],
   "source": [
    "list=[0,1,10,3,4,10]\n",
    "list"
   ]
  },
  {
   "cell_type": "code",
   "execution_count": 33,
   "id": "c82440b0",
   "metadata": {},
   "outputs": [
    {
     "data": {
      "text/plain": [
       "[0, 1, 3, 4, 10]"
      ]
     },
     "execution_count": 33,
     "metadata": {},
     "output_type": "execute_result"
    }
   ],
   "source": [
    "list.pop(2)\n",
    "list"
   ]
  },
  {
   "cell_type": "code",
   "execution_count": 34,
   "id": "05111932",
   "metadata": {},
   "outputs": [
    {
     "name": "stdout",
     "output_type": "stream",
     "text": [
      "10\n"
     ]
    }
   ],
   "source": [
    "print(list.pop(4))"
   ]
  },
  {
   "cell_type": "code",
   "execution_count": 35,
   "id": "e339890b",
   "metadata": {},
   "outputs": [
    {
     "name": "stdout",
     "output_type": "stream",
     "text": [
      "[0, 1, 3, 4]\n"
     ]
    }
   ],
   "source": [
    "print(list)"
   ]
  },
  {
   "cell_type": "markdown",
   "id": "d8463f51",
   "metadata": {},
   "source": [
    "### count()\n",
    "- How many elements in list?"
   ]
  },
  {
   "cell_type": "code",
   "execution_count": 37,
   "id": "36dc3e5a",
   "metadata": {},
   "outputs": [
    {
     "data": {
      "text/plain": [
       "2"
      ]
     },
     "execution_count": 37,
     "metadata": {},
     "output_type": "execute_result"
    }
   ],
   "source": [
    "list=[0,1,10,3,4,10]\n",
    "list.count(10)"
   ]
  },
  {
   "cell_type": "markdown",
   "id": "021b6d55",
   "metadata": {},
   "source": [
    "### Allising"
   ]
  },
  {
   "cell_type": "code",
   "execution_count": 39,
   "id": "7caf4f04",
   "metadata": {},
   "outputs": [
    {
     "name": "stdout",
     "output_type": "stream",
     "text": [
      "[1, 2, 3]\n"
     ]
    }
   ],
   "source": [
    "list = [1,2,3]\n",
    "list2=list\n",
    "print(list2)"
   ]
  },
  {
   "cell_type": "code",
   "execution_count": 40,
   "id": "edc22a0f",
   "metadata": {},
   "outputs": [
    {
     "name": "stdout",
     "output_type": "stream",
     "text": [
      "[200, 2, 3]\n"
     ]
    }
   ],
   "source": [
    "list[0]=200\n",
    "print(list)"
   ]
  },
  {
   "cell_type": "code",
   "execution_count": 41,
   "id": "3ef4de86",
   "metadata": {},
   "outputs": [
    {
     "name": "stdout",
     "output_type": "stream",
     "text": [
      "[200, 2, 3]\n"
     ]
    }
   ],
   "source": [
    "print(list2)"
   ]
  },
  {
   "cell_type": "markdown",
   "id": "2b507cc6",
   "metadata": {},
   "source": [
    "### copy()"
   ]
  },
  {
   "cell_type": "code",
   "execution_count": 44,
   "id": "420a3ccb",
   "metadata": {},
   "outputs": [
    {
     "name": "stdout",
     "output_type": "stream",
     "text": [
      "[1, 2, 3]\n"
     ]
    }
   ],
   "source": [
    "list = [1,2,3]\n",
    "list2=list.copy()\n",
    "print(list2)"
   ]
  },
  {
   "cell_type": "code",
   "execution_count": 45,
   "id": "82c1cb05",
   "metadata": {},
   "outputs": [
    {
     "name": "stdout",
     "output_type": "stream",
     "text": [
      "[200, 2, 3]\n"
     ]
    }
   ],
   "source": [
    "list[0]=200\n",
    "print(list)"
   ]
  },
  {
   "cell_type": "code",
   "execution_count": 46,
   "id": "0ebbdf33",
   "metadata": {},
   "outputs": [
    {
     "name": "stdout",
     "output_type": "stream",
     "text": [
      "[1, 2, 3]\n"
     ]
    }
   ],
   "source": [
    "print(list2)"
   ]
  },
  {
   "cell_type": "markdown",
   "id": "21985e74",
   "metadata": {},
   "source": [
    "## Concatenation"
   ]
  },
  {
   "cell_type": "code",
   "execution_count": 47,
   "id": "7b619f5d",
   "metadata": {},
   "outputs": [],
   "source": [
    "l1=[1,2,3,4]"
   ]
  },
  {
   "cell_type": "code",
   "execution_count": 48,
   "id": "c9713cec",
   "metadata": {},
   "outputs": [],
   "source": [
    "l2=[5,6,7]"
   ]
  },
  {
   "cell_type": "code",
   "execution_count": 50,
   "id": "6dd6a654",
   "metadata": {},
   "outputs": [
    {
     "name": "stdout",
     "output_type": "stream",
     "text": [
      "[5, 6, 7, 1, 2, 3, 4]\n"
     ]
    }
   ],
   "source": [
    "l3=l2+l1\n",
    "print(l3)"
   ]
  },
  {
   "cell_type": "markdown",
   "id": "25422310",
   "metadata": {},
   "source": [
    "## Searching for specific index in list"
   ]
  },
  {
   "cell_type": "code",
   "execution_count": 53,
   "id": "db0a3a92",
   "metadata": {},
   "outputs": [
    {
     "data": {
      "text/plain": [
       "0"
      ]
     },
     "execution_count": 53,
     "metadata": {},
     "output_type": "execute_result"
    }
   ],
   "source": [
    "l2=[5,6,7,5]\n",
    "l2.index(5)       # 5's first index"
   ]
  },
  {
   "cell_type": "markdown",
   "id": "ec3afdd1",
   "metadata": {},
   "source": [
    "## reverse()"
   ]
  },
  {
   "cell_type": "code",
   "execution_count": 54,
   "id": "a8ccf8e5",
   "metadata": {},
   "outputs": [],
   "source": [
    "l1=[1,2,3,4]"
   ]
  },
  {
   "cell_type": "code",
   "execution_count": 55,
   "id": "5679a90e",
   "metadata": {},
   "outputs": [
    {
     "name": "stdout",
     "output_type": "stream",
     "text": [
      "[4, 3, 2, 1]\n"
     ]
    }
   ],
   "source": [
    "l1.reverse()    #inplace\n",
    "print(l1)"
   ]
  },
  {
   "cell_type": "markdown",
   "id": "792e74f1",
   "metadata": {},
   "source": [
    "## Sorting "
   ]
  },
  {
   "cell_type": "markdown",
   "id": "b78d2bc4",
   "metadata": {},
   "source": [
    "#### sorted()\n",
    "- not inplace"
   ]
  },
  {
   "cell_type": "code",
   "execution_count": 58,
   "id": "af173ab1",
   "metadata": {},
   "outputs": [
    {
     "data": {
      "text/plain": [
       "['a', 'b', 'c', 'd']"
      ]
     },
     "execution_count": 58,
     "metadata": {},
     "output_type": "execute_result"
    }
   ],
   "source": [
    "l=[\"a\",\"c\",\"d\",\"b\"]\n",
    "sorted(l)"
   ]
  },
  {
   "cell_type": "code",
   "execution_count": 59,
   "id": "cb735f11",
   "metadata": {},
   "outputs": [
    {
     "data": {
      "text/plain": [
       "['a', 'c', 'd', 'b']"
      ]
     },
     "execution_count": 59,
     "metadata": {},
     "output_type": "execute_result"
    }
   ],
   "source": [
    "l"
   ]
  },
  {
   "cell_type": "markdown",
   "id": "1c7cc65f",
   "metadata": {},
   "source": [
    "#### sort()\n",
    "- inplace"
   ]
  },
  {
   "cell_type": "code",
   "execution_count": 61,
   "id": "a1ea9f8f",
   "metadata": {},
   "outputs": [
    {
     "data": {
      "text/plain": [
       "['a', 'b', 'c', 'd']"
      ]
     },
     "execution_count": 61,
     "metadata": {},
     "output_type": "execute_result"
    }
   ],
   "source": [
    "l=[\"a\",\"c\",\"d\",\"b\"]\n",
    "l.sort()\n",
    "l"
   ]
  },
  {
   "cell_type": "code",
   "execution_count": 63,
   "id": "e7f7a9b3",
   "metadata": {},
   "outputs": [
    {
     "data": {
      "text/plain": [
       "['1', '5', '6', 'a', 'b', 'c', 'd']"
      ]
     },
     "execution_count": 63,
     "metadata": {},
     "output_type": "execute_result"
    }
   ],
   "source": [
    "l=[\"a\",\"c\",\"d\",\"b\",\"1\",\"6\",\"5\"]\n",
    "l.sort()\n",
    "l"
   ]
  },
  {
   "cell_type": "code",
   "execution_count": null,
   "id": "64cdfa52",
   "metadata": {},
   "outputs": [],
   "source": []
  }
 ],
 "metadata": {
  "kernelspec": {
   "display_name": "Python 3 (ipykernel)",
   "language": "python",
   "name": "python3"
  },
  "language_info": {
   "codemirror_mode": {
    "name": "ipython",
    "version": 3
   },
   "file_extension": ".py",
   "mimetype": "text/x-python",
   "name": "python",
   "nbconvert_exporter": "python",
   "pygments_lexer": "ipython3",
   "version": "3.9.7"
  }
 },
 "nbformat": 4,
 "nbformat_minor": 5
}
