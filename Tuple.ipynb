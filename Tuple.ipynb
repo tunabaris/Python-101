{
 "cells": [
  {
   "cell_type": "markdown",
   "id": "94b202bb",
   "metadata": {},
   "source": [
    "# Tuple\n",
    "- Similar to lists but tuples are immutable\n",
    "- (element1,element2)\n"
   ]
  },
  {
   "cell_type": "code",
   "execution_count": 1,
   "id": "ffddd060",
   "metadata": {},
   "outputs": [],
   "source": [
    "x=2\n",
    "y=3"
   ]
  },
  {
   "cell_type": "code",
   "execution_count": 2,
   "id": "ed1dc040",
   "metadata": {},
   "outputs": [],
   "source": [
    "(x,y)=(y,x)"
   ]
  },
  {
   "cell_type": "code",
   "execution_count": 3,
   "id": "36ea9c36",
   "metadata": {},
   "outputs": [
    {
     "data": {
      "text/plain": [
       "3"
      ]
     },
     "execution_count": 3,
     "metadata": {},
     "output_type": "execute_result"
    }
   ],
   "source": [
    "x"
   ]
  },
  {
   "cell_type": "code",
   "execution_count": 4,
   "id": "b440aab4",
   "metadata": {},
   "outputs": [
    {
     "data": {
      "text/plain": [
       "2"
      ]
     },
     "execution_count": 4,
     "metadata": {},
     "output_type": "execute_result"
    }
   ],
   "source": [
    "y"
   ]
  },
  {
   "cell_type": "markdown",
   "id": "4eaf97d0",
   "metadata": {},
   "source": [
    "- Without using paranthesis, program understands it is a tuple"
   ]
  },
  {
   "cell_type": "code",
   "execution_count": 6,
   "id": "08cf0fca",
   "metadata": {},
   "outputs": [],
   "source": [
    "a = 1,2,3,4"
   ]
  },
  {
   "cell_type": "code",
   "execution_count": 7,
   "id": "7f0b6a4c",
   "metadata": {},
   "outputs": [
    {
     "name": "stdout",
     "output_type": "stream",
     "text": [
      "(1, 2, 3, 4)\n"
     ]
    }
   ],
   "source": [
    "print(a)"
   ]
  },
  {
   "cell_type": "code",
   "execution_count": 8,
   "id": "9b64baac",
   "metadata": {},
   "outputs": [
    {
     "data": {
      "text/plain": [
       "tuple"
      ]
     },
     "execution_count": 8,
     "metadata": {},
     "output_type": "execute_result"
    }
   ],
   "source": [
    "type(a)"
   ]
  },
  {
   "cell_type": "markdown",
   "id": "b2d2dc80",
   "metadata": {},
   "source": [
    "# in method\n",
    "- Search for the element that we want in lists or tuples\n",
    "- returns boolean\n"
   ]
  },
  {
   "cell_type": "code",
   "execution_count": 9,
   "id": "e9ea1634",
   "metadata": {},
   "outputs": [
    {
     "data": {
      "text/plain": [
       "True"
      ]
     },
     "execution_count": 9,
     "metadata": {},
     "output_type": "execute_result"
    }
   ],
   "source": [
    "a = (1,2,3,4)\n",
    "3 in a"
   ]
  },
  {
   "cell_type": "code",
   "execution_count": 10,
   "id": "d4147cec",
   "metadata": {},
   "outputs": [
    {
     "data": {
      "text/plain": [
       "False"
      ]
     },
     "execution_count": 10,
     "metadata": {},
     "output_type": "execute_result"
    }
   ],
   "source": [
    "5 in a"
   ]
  },
  {
   "cell_type": "code",
   "execution_count": 11,
   "id": "b1eea5f5",
   "metadata": {},
   "outputs": [
    {
     "data": {
      "text/plain": [
       "False"
      ]
     },
     "execution_count": 11,
     "metadata": {},
     "output_type": "execute_result"
    }
   ],
   "source": [
    "b = [1,2,3,4,\"a\"]\n",
    "a in b"
   ]
  },
  {
   "cell_type": "code",
   "execution_count": 12,
   "id": "d57f560d",
   "metadata": {},
   "outputs": [
    {
     "data": {
      "text/plain": [
       "True"
      ]
     },
     "execution_count": 12,
     "metadata": {},
     "output_type": "execute_result"
    }
   ],
   "source": [
    "\"a\" in b"
   ]
  },
  {
   "cell_type": "code",
   "execution_count": null,
   "id": "da2ae58e",
   "metadata": {},
   "outputs": [],
   "source": []
  }
 ],
 "metadata": {
  "kernelspec": {
   "display_name": "Python 3 (ipykernel)",
   "language": "python",
   "name": "python3"
  },
  "language_info": {
   "codemirror_mode": {
    "name": "ipython",
    "version": 3
   },
   "file_extension": ".py",
   "mimetype": "text/x-python",
   "name": "python",
   "nbconvert_exporter": "python",
   "pygments_lexer": "ipython3",
   "version": "3.9.7"
  }
 },
 "nbformat": 4,
 "nbformat_minor": 5
}
