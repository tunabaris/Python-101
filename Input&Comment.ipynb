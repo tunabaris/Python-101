{
 "cells": [
  {
   "cell_type": "markdown",
   "id": "6f7ef4fe",
   "metadata": {},
   "source": [
    "# Input\n",
    "- Input returns string without casting"
   ]
  },
  {
   "cell_type": "code",
   "execution_count": 6,
   "id": "ab482d8e",
   "metadata": {},
   "outputs": [
    {
     "name": "stdout",
     "output_type": "stream",
     "text": [
      "Enter a number: 5\n"
     ]
    }
   ],
   "source": [
    "x = input(\"Enter a number: \")  "
   ]
  },
  {
   "cell_type": "code",
   "execution_count": 7,
   "id": "dd7b4ce7",
   "metadata": {},
   "outputs": [
    {
     "name": "stdout",
     "output_type": "stream",
     "text": [
      "105\n"
     ]
    }
   ],
   "source": [
    "print(\"10\" + x)"
   ]
  },
  {
   "cell_type": "code",
   "execution_count": 3,
   "id": "c12656bc",
   "metadata": {},
   "outputs": [
    {
     "name": "stdout",
     "output_type": "stream",
     "text": [
      "Enter a number:5\n"
     ]
    }
   ],
   "source": [
    "x = int (input(\"Enter a number:\"))  #CASTING"
   ]
  },
  {
   "cell_type": "code",
   "execution_count": 2,
   "id": "4b39d4a5",
   "metadata": {},
   "outputs": [
    {
     "name": "stdout",
     "output_type": "stream",
     "text": [
      "15\n"
     ]
    }
   ],
   "source": [
    "print(10 + x)"
   ]
  },
  {
   "cell_type": "markdown",
   "id": "9f6a66d3",
   "metadata": {},
   "source": [
    "# Comment Blocks\n",
    "- Comment blocks will ignore by ide\n",
    "- \"#\" one line comment\n",
    "- \"\"\"     \"\"\"  multi line comment"
   ]
  },
  {
   "cell_type": "code",
   "execution_count": 11,
   "id": "1ee9b890",
   "metadata": {},
   "outputs": [
    {
     "name": "stdout",
     "output_type": "stream",
     "text": [
      "15\n"
     ]
    }
   ],
   "source": [
    "\"\"\"\n",
    "We can comment in between these signs\n",
    "\"\"\"\n",
    "print (10+5)"
   ]
  },
  {
   "cell_type": "code",
   "execution_count": 12,
   "id": "2bd68503",
   "metadata": {},
   "outputs": [
    {
     "name": "stdout",
     "output_type": "stream",
     "text": [
      "15\n"
     ]
    }
   ],
   "source": [
    "# or we can comment near this sign \n",
    "print (10+5)"
   ]
  },
  {
   "cell_type": "code",
   "execution_count": null,
   "id": "032bdabe",
   "metadata": {},
   "outputs": [],
   "source": []
  }
 ],
 "metadata": {
  "kernelspec": {
   "display_name": "Python 3 (ipykernel)",
   "language": "python",
   "name": "python3"
  },
  "language_info": {
   "codemirror_mode": {
    "name": "ipython",
    "version": 3
   },
   "file_extension": ".py",
   "mimetype": "text/x-python",
   "name": "python",
   "nbconvert_exporter": "python",
   "pygments_lexer": "ipython3",
   "version": "3.9.7"
  }
 },
 "nbformat": 4,
 "nbformat_minor": 5
}
