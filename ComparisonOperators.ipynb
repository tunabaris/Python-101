{
 "cells": [
  {
   "cell_type": "markdown",
   "id": "4123e284",
   "metadata": {},
   "source": [
    "# Comparison Operators\n",
    "- Returns boolean type"
   ]
  },
  {
   "cell_type": "markdown",
   "id": "c8f9270c",
   "metadata": {},
   "source": [
    "##### Equals (==)"
   ]
  },
  {
   "cell_type": "code",
   "execution_count": 6,
   "id": "d98a80af",
   "metadata": {},
   "outputs": [
    {
     "data": {
      "text/plain": [
       "False"
      ]
     },
     "execution_count": 6,
     "metadata": {},
     "output_type": "execute_result"
    }
   ],
   "source": [
    "5==4"
   ]
  },
  {
   "cell_type": "markdown",
   "id": "eca434e2",
   "metadata": {},
   "source": [
    "##### Not Equal (!=)"
   ]
  },
  {
   "cell_type": "code",
   "execution_count": 7,
   "id": "1906ea7c",
   "metadata": {},
   "outputs": [
    {
     "data": {
      "text/plain": [
       "True"
      ]
     },
     "execution_count": 7,
     "metadata": {},
     "output_type": "execute_result"
    }
   ],
   "source": [
    "5 != 4"
   ]
  },
  {
   "cell_type": "markdown",
   "id": "3a6d4931",
   "metadata": {},
   "source": [
    "##### Greater (>)"
   ]
  },
  {
   "cell_type": "code",
   "execution_count": 8,
   "id": "dda1c7fa",
   "metadata": {},
   "outputs": [
    {
     "data": {
      "text/plain": [
       "True"
      ]
     },
     "execution_count": 8,
     "metadata": {},
     "output_type": "execute_result"
    }
   ],
   "source": [
    "5>4"
   ]
  },
  {
   "cell_type": "markdown",
   "id": "5183b1d7",
   "metadata": {},
   "source": [
    "##### Greater or equal (>=)"
   ]
  },
  {
   "cell_type": "code",
   "execution_count": 9,
   "id": "09343f4b",
   "metadata": {},
   "outputs": [
    {
     "data": {
      "text/plain": [
       "True"
      ]
     },
     "execution_count": 9,
     "metadata": {},
     "output_type": "execute_result"
    }
   ],
   "source": [
    "5>=4"
   ]
  },
  {
   "cell_type": "markdown",
   "id": "4389e6cc",
   "metadata": {},
   "source": [
    "##### Smaller (<)"
   ]
  },
  {
   "cell_type": "code",
   "execution_count": 10,
   "id": "05415c5c",
   "metadata": {},
   "outputs": [
    {
     "data": {
      "text/plain": [
       "False"
      ]
     },
     "execution_count": 10,
     "metadata": {},
     "output_type": "execute_result"
    }
   ],
   "source": [
    "5<4"
   ]
  },
  {
   "cell_type": "markdown",
   "id": "3b408423",
   "metadata": {},
   "source": [
    "##### Smaller or equal (<=)"
   ]
  },
  {
   "cell_type": "code",
   "execution_count": 11,
   "id": "25faf787",
   "metadata": {},
   "outputs": [
    {
     "data": {
      "text/plain": [
       "False"
      ]
     },
     "execution_count": 11,
     "metadata": {},
     "output_type": "execute_result"
    }
   ],
   "source": [
    "5<=4"
   ]
  },
  {
   "cell_type": "code",
   "execution_count": null,
   "id": "3894c73b",
   "metadata": {},
   "outputs": [],
   "source": []
  }
 ],
 "metadata": {
  "kernelspec": {
   "display_name": "Python 3 (ipykernel)",
   "language": "python",
   "name": "python3"
  },
  "language_info": {
   "codemirror_mode": {
    "name": "ipython",
    "version": 3
   },
   "file_extension": ".py",
   "mimetype": "text/x-python",
   "name": "python",
   "nbconvert_exporter": "python",
   "pygments_lexer": "ipython3",
   "version": "3.9.7"
  }
 },
 "nbformat": 4,
 "nbformat_minor": 5
}
