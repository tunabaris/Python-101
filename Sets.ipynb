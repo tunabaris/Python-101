{
 "cells": [
  {
   "cell_type": "markdown",
   "id": "ac7fa7f6",
   "metadata": {},
   "source": [
    "# Sets\n",
    "- Mutable\n",
    "   "
   ]
  },
  {
   "cell_type": "markdown",
   "id": "561b4543",
   "metadata": {},
   "source": [
    "### Creating a Set"
   ]
  },
  {
   "cell_type": "code",
   "execution_count": 1,
   "id": "fe7e58e5",
   "metadata": {},
   "outputs": [
    {
     "data": {
      "text/plain": [
       "{1, 2, 3, 4, 5, 6}"
      ]
     },
     "execution_count": 1,
     "metadata": {},
     "output_type": "execute_result"
    }
   ],
   "source": [
    "s={4,5,6,3,2,1}\n",
    "s"
   ]
  },
  {
   "cell_type": "code",
   "execution_count": 2,
   "id": "fd09ab03",
   "metadata": {},
   "outputs": [
    {
     "data": {
      "text/plain": [
       "{1, 2, 3, 4, 5, 6}"
      ]
     },
     "execution_count": 2,
     "metadata": {},
     "output_type": "execute_result"
    }
   ],
   "source": [
    "s={4,5,6,3,2,1,2,3}\n",
    "s"
   ]
  },
  {
   "cell_type": "markdown",
   "id": "26be8144",
   "metadata": {},
   "source": [
    "### Create an empty set"
   ]
  },
  {
   "cell_type": "code",
   "execution_count": 3,
   "id": "211114a4",
   "metadata": {},
   "outputs": [],
   "source": [
    "a = {}     # this is dictionary"
   ]
  },
  {
   "cell_type": "code",
   "execution_count": 4,
   "id": "336011e5",
   "metadata": {},
   "outputs": [
    {
     "data": {
      "text/plain": [
       "dict"
      ]
     },
     "execution_count": 4,
     "metadata": {},
     "output_type": "execute_result"
    }
   ],
   "source": [
    "type(a)"
   ]
  },
  {
   "cell_type": "code",
   "execution_count": 5,
   "id": "8ea873af",
   "metadata": {},
   "outputs": [],
   "source": [
    "a= set()"
   ]
  },
  {
   "cell_type": "code",
   "execution_count": 6,
   "id": "a827bb9a",
   "metadata": {},
   "outputs": [
    {
     "data": {
      "text/plain": [
       "set"
      ]
     },
     "execution_count": 6,
     "metadata": {},
     "output_type": "execute_result"
    }
   ],
   "source": [
    "type (a)"
   ]
  },
  {
   "cell_type": "markdown",
   "id": "35b6bbb6",
   "metadata": {},
   "source": [
    "### Sets repeat values one times "
   ]
  },
  {
   "cell_type": "code",
   "execution_count": 7,
   "id": "afa33b74",
   "metadata": {},
   "outputs": [],
   "source": [
    "message = \"Hello there!\""
   ]
  },
  {
   "cell_type": "code",
   "execution_count": 8,
   "id": "e9f61e42",
   "metadata": {},
   "outputs": [],
   "source": [
    "s=set(message)"
   ]
  },
  {
   "cell_type": "code",
   "execution_count": 9,
   "id": "6923c857",
   "metadata": {},
   "outputs": [
    {
     "name": "stdout",
     "output_type": "stream",
     "text": [
      "{'t', '!', 'l', 'h', 'e', 'H', ' ', 'o', 'r'}\n"
     ]
    }
   ],
   "source": [
    "print(s)"
   ]
  },
  {
   "cell_type": "code",
   "execution_count": 10,
   "id": "de588a1c",
   "metadata": {},
   "outputs": [
    {
     "data": {
      "text/plain": [
       "9"
      ]
     },
     "execution_count": 10,
     "metadata": {},
     "output_type": "execute_result"
    }
   ],
   "source": [
    "len(s)"
   ]
  },
  {
   "cell_type": "markdown",
   "id": "5055f8d6",
   "metadata": {},
   "source": [
    "### Adding and deleting element in set"
   ]
  },
  {
   "cell_type": "code",
   "execution_count": 11,
   "id": "00ec0b77",
   "metadata": {},
   "outputs": [
    {
     "data": {
      "text/plain": [
       "{1, 2, 3, 4, 5, 6, 7}"
      ]
     },
     "execution_count": 11,
     "metadata": {},
     "output_type": "execute_result"
    }
   ],
   "source": [
    "s={4,5,6,3,2,1}\n",
    "s.add(7)\n",
    "s"
   ]
  },
  {
   "cell_type": "code",
   "execution_count": 12,
   "id": "dee7211a",
   "metadata": {},
   "outputs": [
    {
     "data": {
      "text/plain": [
       "{1, 3, 4, 5, 6, 7}"
      ]
     },
     "execution_count": 12,
     "metadata": {},
     "output_type": "execute_result"
    }
   ],
   "source": [
    "s.remove(2)\n",
    "s"
   ]
  },
  {
   "cell_type": "code",
   "execution_count": 13,
   "id": "c829a7ea",
   "metadata": {},
   "outputs": [
    {
     "ename": "KeyError",
     "evalue": "8",
     "output_type": "error",
     "traceback": [
      "\u001b[1;31m---------------------------------------------------------------------------\u001b[0m",
      "\u001b[1;31mKeyError\u001b[0m                                  Traceback (most recent call last)",
      "\u001b[1;32m~\\AppData\\Local\\Temp/ipykernel_23284/2473678413.py\u001b[0m in \u001b[0;36m<module>\u001b[1;34m\u001b[0m\n\u001b[1;32m----> 1\u001b[1;33m \u001b[0ms\u001b[0m\u001b[1;33m.\u001b[0m\u001b[0mremove\u001b[0m\u001b[1;33m(\u001b[0m\u001b[1;36m8\u001b[0m\u001b[1;33m)\u001b[0m\u001b[1;33m\u001b[0m\u001b[1;33m\u001b[0m\u001b[0m\n\u001b[0m",
      "\u001b[1;31mKeyError\u001b[0m: 8"
     ]
    }
   ],
   "source": [
    "s.remove(8)"
   ]
  },
  {
   "cell_type": "code",
   "execution_count": 14,
   "id": "c7bfb504",
   "metadata": {},
   "outputs": [],
   "source": [
    "s.discard(8)       # deletes if any, continues. Not gives error."
   ]
  },
  {
   "cell_type": "markdown",
   "id": "b74d3120",
   "metadata": {},
   "source": [
    "## Difference "
   ]
  },
  {
   "cell_type": "code",
   "execution_count": 15,
   "id": "baaadfae",
   "metadata": {},
   "outputs": [],
   "source": [
    "s1= set([1,5,10])\n",
    "s2= set([2,5,3])"
   ]
  },
  {
   "cell_type": "code",
   "execution_count": 16,
   "id": "8debeaac",
   "metadata": {},
   "outputs": [
    {
     "data": {
      "text/plain": [
       "{1, 10}"
      ]
     },
     "execution_count": 16,
     "metadata": {},
     "output_type": "execute_result"
    }
   ],
   "source": [
    "s1.difference(s2)      # What is different for s1 from s2."
   ]
  },
  {
   "cell_type": "code",
   "execution_count": 17,
   "id": "9547e0c6",
   "metadata": {},
   "outputs": [
    {
     "data": {
      "text/plain": [
       "{1, 10}"
      ]
     },
     "execution_count": 17,
     "metadata": {},
     "output_type": "execute_result"
    }
   ],
   "source": [
    "s1 - s2"
   ]
  },
  {
   "cell_type": "markdown",
   "id": "2a625160",
   "metadata": {},
   "source": [
    "### Symmetric Difference\n",
    "- (s1-s2) U (s2-s1)"
   ]
  },
  {
   "cell_type": "code",
   "execution_count": 19,
   "id": "092fb8e2",
   "metadata": {},
   "outputs": [
    {
     "data": {
      "text/plain": [
       "{1, 2, 3, 10}"
      ]
     },
     "execution_count": 19,
     "metadata": {},
     "output_type": "execute_result"
    }
   ],
   "source": [
    "s1.symmetric_difference(s2)"
   ]
  },
  {
   "cell_type": "code",
   "execution_count": 20,
   "id": "9bb29a0f",
   "metadata": {},
   "outputs": [
    {
     "data": {
      "text/plain": [
       "{1, 2, 3, 10}"
      ]
     },
     "execution_count": 20,
     "metadata": {},
     "output_type": "execute_result"
    }
   ],
   "source": [
    "s2.symmetric_difference(s1)"
   ]
  },
  {
   "cell_type": "markdown",
   "id": "a92f8ad4",
   "metadata": {},
   "source": [
    "## Intersection"
   ]
  },
  {
   "cell_type": "code",
   "execution_count": 22,
   "id": "19d29aaf",
   "metadata": {},
   "outputs": [
    {
     "data": {
      "text/plain": [
       "{5}"
      ]
     },
     "execution_count": 22,
     "metadata": {},
     "output_type": "execute_result"
    }
   ],
   "source": [
    "s1.intersection(s2)"
   ]
  },
  {
   "cell_type": "markdown",
   "id": "d642097e",
   "metadata": {},
   "source": [
    "## Union"
   ]
  },
  {
   "cell_type": "code",
   "execution_count": 23,
   "id": "8db8f6d3",
   "metadata": {},
   "outputs": [
    {
     "data": {
      "text/plain": [
       "{1, 2, 3, 5, 10}"
      ]
     },
     "execution_count": 23,
     "metadata": {},
     "output_type": "execute_result"
    }
   ],
   "source": [
    "s1.union(s2)"
   ]
  },
  {
   "cell_type": "markdown",
   "id": "1d5729df",
   "metadata": {},
   "source": [
    "## Disjoint Sets\n",
    "- Check wether sets intersection is empty or not\n",
    "- True if it is empty set"
   ]
  },
  {
   "cell_type": "code",
   "execution_count": 26,
   "id": "605fad66",
   "metadata": {},
   "outputs": [
    {
     "data": {
      "text/plain": [
       "False"
      ]
     },
     "execution_count": 26,
     "metadata": {},
     "output_type": "execute_result"
    }
   ],
   "source": [
    "s1.isdisjoint(s2)"
   ]
  },
  {
   "cell_type": "code",
   "execution_count": null,
   "id": "18d6e71d",
   "metadata": {},
   "outputs": [],
   "source": []
  }
 ],
 "metadata": {
  "kernelspec": {
   "display_name": "Python 3 (ipykernel)",
   "language": "python",
   "name": "python3"
  },
  "language_info": {
   "codemirror_mode": {
    "name": "ipython",
    "version": 3
   },
   "file_extension": ".py",
   "mimetype": "text/x-python",
   "name": "python",
   "nbconvert_exporter": "python",
   "pygments_lexer": "ipython3",
   "version": "3.9.7"
  }
 },
 "nbformat": 4,
 "nbformat_minor": 5
}
