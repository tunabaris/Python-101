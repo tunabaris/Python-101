{
 "cells": [
  {
   "cell_type": "markdown",
   "id": "8cdb5c10",
   "metadata": {},
   "source": [
    "## for task 1 whic is \n",
    "```\n",
    "1- Bir listeyi düzleştiren (flatten) fonksiyon yazın. Elemanları birden çok katmanlı listelerden ([[3],2] gibi) oluşabileceği gibi, non-scalar verilerden de oluşabilir. Örnek olarak:\n",
    "\n",
    "input: [[1,'a',['cat'],2],[[[3]],'dog'],4,5]\n",
    "\n",
    "output: [1,'a','cat',2,3,'dog',4,5] ```"
   ]
  },
  {
   "cell_type": "code",
   "execution_count": 1,
   "id": "ffd0767d",
   "metadata": {},
   "outputs": [
    {
     "name": "stdout",
     "output_type": "stream",
     "text": [
      "[1, 'a', 'cat', 2, 3, 'dog', 4, 5]\n"
     ]
    }
   ],
   "source": [
    "def fluatten_func(liste):\n",
    "    flat_liste = []\n",
    "    for i in liste:\n",
    "        if type(i) is list:\n",
    "            flat_liste.extend(fluatten_func(i))\n",
    "        else:\n",
    "            flat_liste.append(i)\n",
    "    return flat_liste\n",
    "\n",
    "liste = [[1,'a',['cat'],2],[[[3]],'dog'],4,5]\n",
    "print(fluatten_func(liste))"
   ]
  },
  {
   "cell_type": "markdown",
   "id": "e6825360",
   "metadata": {},
   "source": [
    "## for task 2 whic is \n",
    "```\n",
    "2- Verilen listenin içindeki elemanları tersine döndüren bir fonksiyon yazın. Eğer listenin içindeki elemanlar da liste içeriyorsa onların elemanlarını da tersine döndürün. Örnek olarak:\n",
    "\n",
    "input: [[1, 2], [3, 4], [5, 6, 7]]\n",
    "\n",
    "output: [[[7, 6, 5], [4, 3], [2, 1]] ```"
   ]
  },
  {
   "cell_type": "code",
   "execution_count": 2,
   "id": "8388cf02",
   "metadata": {},
   "outputs": [
    {
     "name": "stdout",
     "output_type": "stream",
     "text": [
      "[[7, 6, 5], [4, 3], [2, 1]]\n"
     ]
    }
   ],
   "source": [
    "def reverse_list(liste):\n",
    "    reverse_list = []\n",
    "    boyut = len(liste)\n",
    "    for i in range(0,boyut):\n",
    "        reverse_list.append(liste[boyut-i-1][::-1])\n",
    "    return reverse_list\n",
    "\n",
    "liste = [[1, 2], [3, 4], [5, 6, 7]]\n",
    "print(reverse_list(liste))"
   ]
  },
  {
   "cell_type": "code",
   "execution_count": null,
   "id": "3b203c0f",
   "metadata": {},
   "outputs": [],
   "source": []
  }
 ],
 "metadata": {
  "kernelspec": {
   "display_name": "Python 3 (ipykernel)",
   "language": "python",
   "name": "python3"
  },
  "language_info": {
   "codemirror_mode": {
    "name": "ipython",
    "version": 3
   },
   "file_extension": ".py",
   "mimetype": "text/x-python",
   "name": "python",
   "nbconvert_exporter": "python",
   "pygments_lexer": "ipython3",
   "version": "3.9.7"
  }
 },
 "nbformat": 4,
 "nbformat_minor": 5
}
