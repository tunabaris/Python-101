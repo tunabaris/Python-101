{
 "cells": [
  {
   "cell_type": "markdown",
   "id": "5627cd33",
   "metadata": {},
   "source": [
    "# Dictionaries\n",
    "\n",
    "- {key1:value1,key2:value2...}\n",
    "- keys are immutable , values are both immutable and mutable\n",
    "- indexes are keys here"
   ]
  },
  {
   "cell_type": "code",
   "execution_count": 2,
   "id": "e4cbac21",
   "metadata": {},
   "outputs": [],
   "source": [
    "grades = {\"Baris\": 90 , \"Ahmet\":85 , \"Mehmet\":50}"
   ]
  },
  {
   "cell_type": "code",
   "execution_count": 3,
   "id": "888e7aeb",
   "metadata": {},
   "outputs": [
    {
     "data": {
      "text/plain": [
       "90"
      ]
     },
     "execution_count": 3,
     "metadata": {},
     "output_type": "execute_result"
    }
   ],
   "source": [
    "grades[\"Baris\"]"
   ]
  },
  {
   "cell_type": "code",
   "execution_count": 6,
   "id": "8562127f",
   "metadata": {},
   "outputs": [],
   "source": [
    "students = {\"Baris\":{\"grades\":90, \"school no\":702} , \"Ahmet\":{\"grades\":85, \"school no\":610}, \"Mehmet\":{\"grades\":55, \"school no\":815}}"
   ]
  },
  {
   "cell_type": "code",
   "execution_count": 7,
   "id": "db54c1f2",
   "metadata": {},
   "outputs": [
    {
     "data": {
      "text/plain": [
       "702"
      ]
     },
     "execution_count": 7,
     "metadata": {},
     "output_type": "execute_result"
    }
   ],
   "source": [
    "students[\"Baris\"][\"school no\"]"
   ]
  },
  {
   "cell_type": "code",
   "execution_count": 8,
   "id": "763d5029",
   "metadata": {},
   "outputs": [
    {
     "data": {
      "text/plain": [
       "85"
      ]
     },
     "execution_count": 8,
     "metadata": {},
     "output_type": "execute_result"
    }
   ],
   "source": [
    "students[\"Ahmet\"][\"grades\"]"
   ]
  },
  {
   "cell_type": "markdown",
   "id": "35d64caa",
   "metadata": {},
   "source": [
    "### len()\n",
    "- return key amount"
   ]
  },
  {
   "cell_type": "code",
   "execution_count": 9,
   "id": "e8729d81",
   "metadata": {},
   "outputs": [
    {
     "data": {
      "text/plain": [
       "3"
      ]
     },
     "execution_count": 9,
     "metadata": {},
     "output_type": "execute_result"
    }
   ],
   "source": [
    "len(students)"
   ]
  },
  {
   "cell_type": "markdown",
   "id": "6af9c04b",
   "metadata": {},
   "source": [
    "## value assignment"
   ]
  },
  {
   "cell_type": "code",
   "execution_count": 10,
   "id": "070f2840",
   "metadata": {},
   "outputs": [],
   "source": [
    "students[\"Baris\"][\"grades\"]=75"
   ]
  },
  {
   "cell_type": "code",
   "execution_count": 11,
   "id": "192e4f97",
   "metadata": {},
   "outputs": [
    {
     "name": "stdout",
     "output_type": "stream",
     "text": [
      "{'Baris': {'grades': 75, 'school no': 702}, 'Ahmet': {'grades': 85, 'school no': 610}, 'Mehmet': {'grades': 55, 'school no': 815}}\n"
     ]
    }
   ],
   "source": [
    "print(students)"
   ]
  },
  {
   "cell_type": "markdown",
   "id": "be8f352d",
   "metadata": {},
   "source": [
    "### Deleting value"
   ]
  },
  {
   "cell_type": "code",
   "execution_count": 13,
   "id": "afd3b7d9",
   "metadata": {},
   "outputs": [
    {
     "name": "stdout",
     "output_type": "stream",
     "text": [
      "{'Baris': {'grades': 75, 'school no': 702}, 'Ahmet': {'grades': 85, 'school no': 610}, 'Mehmet': {'grades': 55, 'school no': 815}}\n"
     ]
    }
   ],
   "source": [
    "print(students)"
   ]
  },
  {
   "cell_type": "code",
   "execution_count": 14,
   "id": "c01b3c62",
   "metadata": {},
   "outputs": [],
   "source": [
    "del students[\"Baris\"]"
   ]
  },
  {
   "cell_type": "code",
   "execution_count": 15,
   "id": "1cf62ffa",
   "metadata": {},
   "outputs": [
    {
     "name": "stdout",
     "output_type": "stream",
     "text": [
      "{'Ahmet': {'grades': 85, 'school no': 610}, 'Mehmet': {'grades': 55, 'school no': 815}}\n"
     ]
    }
   ],
   "source": [
    "print(students)"
   ]
  },
  {
   "cell_type": "markdown",
   "id": "32cb0ffe",
   "metadata": {},
   "source": [
    "## Create empty dictionaries"
   ]
  },
  {
   "cell_type": "code",
   "execution_count": 16,
   "id": "ca3bb872",
   "metadata": {},
   "outputs": [],
   "source": [
    "d={}"
   ]
  },
  {
   "cell_type": "code",
   "execution_count": 18,
   "id": "2eea85c3",
   "metadata": {},
   "outputs": [],
   "source": [
    "d[1]=\"a\""
   ]
  },
  {
   "cell_type": "code",
   "execution_count": 19,
   "id": "e42445ba",
   "metadata": {},
   "outputs": [
    {
     "name": "stdout",
     "output_type": "stream",
     "text": [
      "{1: 'a'}\n"
     ]
    }
   ],
   "source": [
    "print (d)"
   ]
  },
  {
   "cell_type": "markdown",
   "id": "40b13e58",
   "metadata": {},
   "source": [
    "## in"
   ]
  },
  {
   "cell_type": "code",
   "execution_count": 20,
   "id": "da8e218d",
   "metadata": {},
   "outputs": [
    {
     "data": {
      "text/plain": [
       "False"
      ]
     },
     "execution_count": 20,
     "metadata": {},
     "output_type": "execute_result"
    }
   ],
   "source": [
    "\"Baris\" in students"
   ]
  },
  {
   "cell_type": "code",
   "execution_count": 21,
   "id": "9c11e319",
   "metadata": {},
   "outputs": [
    {
     "data": {
      "text/plain": [
       "True"
      ]
     },
     "execution_count": 21,
     "metadata": {},
     "output_type": "execute_result"
    }
   ],
   "source": [
    "\"Ahmet\" in students"
   ]
  },
  {
   "cell_type": "code",
   "execution_count": null,
   "id": "9f41fb87",
   "metadata": {},
   "outputs": [],
   "source": []
  }
 ],
 "metadata": {
  "kernelspec": {
   "display_name": "Python 3 (ipykernel)",
   "language": "python",
   "name": "python3"
  },
  "language_info": {
   "codemirror_mode": {
    "name": "ipython",
    "version": 3
   },
   "file_extension": ".py",
   "mimetype": "text/x-python",
   "name": "python",
   "nbconvert_exporter": "python",
   "pygments_lexer": "ipython3",
   "version": "3.9.7"
  }
 },
 "nbformat": 4,
 "nbformat_minor": 5
}
